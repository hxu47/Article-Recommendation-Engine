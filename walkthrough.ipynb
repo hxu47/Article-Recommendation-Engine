{
 "cells": [
  {
   "cell_type": "code",
   "execution_count": 2,
   "metadata": {},
   "outputs": [],
   "source": [
    "from doc2vec import *\n",
    "import sys"
   ]
  },
  {
   "cell_type": "markdown",
   "metadata": {},
   "source": [
    "## Initialization\n",
    "In `server.py`, we use these lines of codes for initialization:\n",
    "```python\n",
    "i = sys.argv.index('server:app')\n",
    "glove_filename = sys.argv[i+1]\n",
    "articles_dirname = sys.argv[i+2]\n",
    "\n",
    "gloves = load_glove(glove_filename)\n",
    "articles_loaded = load_articles(articles_dirname, gloves)   \n",
    "```\n",
    "How do them work?\n",
    "First, when we are launching the Web server using gunicorn: \n",
    "```\n",
    "gunicorn -D --threads 4 -b 0.0.0.0:5000 --access-logfile server.log --timeout 60 server:app glove.6B.300d.txt bbc\n",
    "```\n",
    "We need to find the glove and articles arguments. The first three lines of codes realize it. It will read `glove.6B.300d.txt` into `glove_filename` variable and then `bbc` into `articles_dirname` variable."
   ]
  },
  {
   "cell_type": "code",
   "execution_count": 28,
   "metadata": {},
   "outputs": [],
   "source": [
    "glove_filename = 'glove.6B.300d.txt'\n",
    "articles_dirname = 'bbc'"
   ]
  },
  {
   "cell_type": "markdown",
   "metadata": {},
   "source": [
    "The `gloves` variable is the dictionary mapping a word to its 300-vector vector."
   ]
  },
  {
   "cell_type": "code",
   "execution_count": 5,
   "metadata": {},
   "outputs": [],
   "source": [
    "gloves = load_glove(glove_filename)"
   ]
  },
  {
   "cell_type": "code",
   "execution_count": 18,
   "metadata": {},
   "outputs": [
    {
     "data": {
      "text/plain": [
       "((300,), (300,))"
      ]
     },
     "execution_count": 18,
     "metadata": {},
     "output_type": "execute_result"
    }
   ],
   "source": [
    "gloves['the'].shape, gloves['dog'].shape"
   ]
  },
  {
   "cell_type": "markdown",
   "metadata": {},
   "source": [
    "The `articles` is a list of records, one for each article. An article record is just a list containing the fully-qualified file name, the article title, the text without the title, and the word vector computed from the text without the title."
   ]
  },
  {
   "cell_type": "code",
   "execution_count": 12,
   "metadata": {},
   "outputs": [],
   "source": [
    "articles_loaded = load_articles(articles_dirname, gloves)   "
   ]
  },
  {
   "cell_type": "code",
   "execution_count": 16,
   "metadata": {},
   "outputs": [
    {
     "name": "stdout",
     "output_type": "stream",
     "text": [
      "number of acticle record:  2226\n"
     ]
    }
   ],
   "source": [
    "print('number of acticle record: ', len(articles_loaded))"
   ]
  },
  {
   "cell_type": "code",
   "execution_count": 23,
   "metadata": {},
   "outputs": [
    {
     "data": {
      "text/plain": [
       "('entertainment/289.txt',\n",
       " 'Musicians to tackle US red tape',\n",
       " '\\nMusicians\\' groups are to tackle US visa regulations which are blamed for hindering British acts\\' chances of succeeding across the Atlantic.\\n\\nA singer hoping to perform in the US can expect to pay $1,300 (Â£680) simply for obtaining a visa. Groups including the Musicians\\' Union are calling for an end to the \"raw deal\" faced by British performers. US acts are not faced with comparable expense and bureaucracy when visiting the UK for promotional purposes.\\n\\nNigel McCune from the Musicians\\' Union said British musicians are \"disadvantaged\" compared to their US counterparts. A sponsor has to make a petition on their behalf, which is a form amounting to nearly 30 pages, while musicians face tougher regulations than athletes and journalists. \"If you make a mistake on your form, you risk a five-year ban and thus the ability to further your career,\" says Mr McCune.\\n\\n\"The US is the world\\'s biggest music market, which means something has to be done about the creaky bureaucracy,\" says Mr McCune. \"The current situation is preventing British acts from maintaining momentum and developing in the US,\" he added.\\n\\nThe Musicians\\' Union stance is being endorsed by the Music Managers\\' Forum (MMF), who say British artists face \"an uphill struggle\" to succeed in the US, thanks to the tough visa requirements, which are also seen as impractical. The MMF\\'s general secretary James Seller said: \"Imagine if you were an orchestra from the Orkneys? Every member would have to travel to London to have their visas processed.\"\\n\\n\"The US market is seen as the holy grail and one of the benchmarks of success, and we\\'re still going to fight to get in there. \"It\\'s still very important, but there are other markets like Europe, India and China,\" added Mr Seller. A Department for Media, Culture and Sport spokeswoman said: \"We\\'re aware that people are experiencing problems, and are working with the US embassy and record industry to see what we can do about it.\" A US Embassy spokesman said: \"We are aware that entertainers require visas for time-specific visas and are doing everything we can to process those applications speedily.\" \"We are aware of the importance of cultural exchange and we will do our best to facilitate that,\" he added.\\n',\n",
       " array([ 3.46933215e-02,  1.31864525e-02,  4.52075179e-02, -5.34555333e-02,\n",
       "         7.08921243e-03, -6.95811433e-02,  1.26320379e-02,  8.90538292e-02,\n",
       "        -5.07717538e-02, -1.21474831e+00,  9.18835751e-02, -5.36591373e-02,\n",
       "        -2.21396814e-02,  1.67896254e-02, -3.91827627e-03, -1.48249133e-01,\n",
       "        -1.15956137e-01,  1.58253919e-02, -4.21456384e-02, -8.50958232e-02,\n",
       "         4.74364232e-02,  1.29531989e-01,  1.99184868e-01,  7.74796503e-02,\n",
       "        -2.09716325e-01,  8.67498972e-02,  2.29134881e-02,  1.85750302e-02,\n",
       "        -6.42621633e-02,  1.33380053e-01, -9.56786492e-02,  5.14616486e-02,\n",
       "        -1.46486127e-01, -3.88303107e-03, -6.34611385e-01, -6.01681904e-02,\n",
       "         6.01081188e-02, -1.04467299e-02,  2.14785427e-02, -8.91453718e-02,\n",
       "        -4.86184966e-02, -1.00724969e-01,  1.49392040e-02,  8.95482186e-02,\n",
       "        -5.95706249e-02,  5.75804019e-02, -6.92412384e-02,  6.08698757e-02,\n",
       "        -6.16231328e-02, -9.75569203e-02,  1.31806341e-01, -1.05882082e-01,\n",
       "        -1.19487232e-02,  6.48084814e-02, -1.18922119e-02,  1.68197399e-01,\n",
       "        -1.24480200e-01,  1.19382171e-01,  9.78047034e-03, -4.08398305e-03,\n",
       "         8.00110757e-02, -8.71793785e-03,  6.80200567e-02,  5.75163887e-02,\n",
       "         1.53008571e-02, -6.30338260e-02,  7.51373559e-02,  7.03177631e-02,\n",
       "        -4.03814282e-02,  4.57235316e-02,  4.83258463e-02,  5.00457599e-03,\n",
       "        -3.27062927e-02,  4.54335774e-02,  7.48373932e-02, -4.11415096e-02,\n",
       "        -6.67594712e-03,  1.12624223e-01,  1.47843610e-02,  7.17721090e-02,\n",
       "        -4.55683525e-02, -5.92311870e-02, -1.74035593e-03,  4.51730169e-03,\n",
       "         1.38917576e-01,  6.22123729e-03,  2.21936215e-03, -1.20663427e-02,\n",
       "        -1.70345333e-02,  5.50956667e-03, -1.68791556e-01,  9.46522079e-02,\n",
       "        -1.58798271e-01,  3.10411339e-02,  6.33189983e-02, -1.86811062e-02,\n",
       "        -1.31340679e-01, -6.86900746e-02,  1.07611633e-02, -1.28518102e-01,\n",
       "        -3.30615949e-02, -4.19995017e-02, -4.41569268e-02, -1.62398294e-01,\n",
       "        -8.68461288e-02,  9.78775842e-02, -5.80149493e-02,  4.97552542e-04,\n",
       "        -6.79485181e-02,  4.17048938e-02,  5.63490645e-02, -1.07227041e-01,\n",
       "        -1.71762056e-02, -2.24832768e-02,  8.93020288e-02,  5.49514181e-03,\n",
       "         4.91971966e-02, -3.13142079e-03, -3.01516315e-02, -1.34130901e-01,\n",
       "         3.93980469e-02, -5.45776390e-03,  7.78537808e-02,  2.49559096e-02,\n",
       "         7.38197785e-02, -4.11358243e-02,  2.70284040e-02,  4.88252876e-02,\n",
       "         8.26164480e-02, -2.94198542e-02,  6.31320085e-02, -2.83907961e-02,\n",
       "         6.79003667e-02, -1.22732072e-01, -3.33595440e-02, -7.40200429e-03,\n",
       "        -3.10081164e-02,  2.38212746e-02, -7.22793040e-03,  8.64758949e-02,\n",
       "        -4.72052621e-02, -3.42753243e-02,  5.59509523e-02, -2.86390746e-02,\n",
       "        -1.14003373e-01,  1.07347966e-02,  8.65030847e-03, -4.68229034e-02,\n",
       "        -6.52385616e-02,  1.43139359e-02,  1.83743420e-01, -7.92841073e-02,\n",
       "         6.40932305e-02, -3.85107373e-02,  9.44463734e-02,  4.11363379e-02,\n",
       "        -2.37971647e-01,  2.83791090e-02, -2.35841198e-02, -9.44511712e-02,\n",
       "         7.44247876e-02, -2.48573256e-02, -5.89645209e-02, -8.99111226e-02,\n",
       "        -5.35060520e-02,  2.20772697e-02, -5.51031586e-02, -1.58187134e-02,\n",
       "         6.22282808e-02,  7.71075237e-02,  1.16936629e-01,  1.40308254e-02,\n",
       "        -3.82667066e-01, -1.09772876e-02,  7.16133967e-02, -2.09185588e-02,\n",
       "        -8.80401977e-02, -5.70051440e-02, -3.54138482e-02,  3.77628180e-01,\n",
       "         1.18089623e-02, -5.44469983e-02, -1.91812068e-02, -2.79737039e-02,\n",
       "        -3.23509266e-03, -1.45391751e-03, -1.64878673e-01,  2.22288475e-03,\n",
       "        -2.24111842e-02, -1.96367915e-02, -6.00372475e-02,  2.50558328e-02,\n",
       "         5.34518681e-02, -3.81051614e-02,  5.72706571e-02, -2.37031588e-02,\n",
       "         4.94744079e-02,  2.61252164e-02,  1.56053414e-02, -8.68986429e-02,\n",
       "         5.22800167e-01, -5.87624859e-04,  5.00866780e-03,  8.23705740e-02,\n",
       "         3.66598754e-02,  7.11832068e-02,  1.62019384e-02,  5.79598090e-02,\n",
       "         4.48104678e-02, -1.08468887e-01, -4.04958525e-02, -6.52423164e-04,\n",
       "         9.44316210e-02,  1.02832147e-01,  1.16214505e-02,  4.64308162e-02,\n",
       "        -1.67457463e-02,  1.52126150e-01, -2.39449780e-02,  6.75483322e-02,\n",
       "         1.33634744e-01, -2.08922371e-02, -9.80489757e-02,  2.18276062e-02,\n",
       "         1.51492305e-02,  1.42148023e-04,  1.37405333e-02,  6.11636893e-03,\n",
       "         1.86676062e-02,  2.43398231e-02, -2.46526836e-02,  1.14618814e-02,\n",
       "         8.43986661e-02, -4.56904949e-02, -7.24909209e-03,  1.43267797e-03,\n",
       "         8.04302212e-02,  3.54056763e-02,  2.78977051e-03, -5.28326791e-02,\n",
       "        -7.32758175e-02,  1.01489208e-01,  2.40537668e-01,  3.41524429e-02,\n",
       "        -3.36994324e-01,  7.70826785e-02, -1.91361695e-03, -5.37011893e-02,\n",
       "         1.60302881e-03,  6.77033079e-02,  3.44347018e-02, -8.42674288e-02,\n",
       "        -3.66796949e-02,  3.26607492e-02,  1.62634542e-01, -6.62235927e-02,\n",
       "        -1.22639511e-01, -5.91150356e-02, -2.24798842e-02,  6.41613333e-02,\n",
       "        -6.60746750e-02, -4.92458014e-02,  8.94168576e-02,  4.36596644e-02,\n",
       "         6.58130583e-02,  7.85651898e-02, -1.41287877e-01,  1.02300426e-02,\n",
       "        -8.71766785e-02, -8.75488110e-02,  8.42327317e-02,  1.30893074e-01,\n",
       "        -2.33974090e-03,  2.06458644e-03,  7.69923282e-02,  7.29508859e-02,\n",
       "        -1.41571073e+00, -4.73578835e-02,  4.20615542e-01,  3.41738475e-03,\n",
       "        -4.94934136e-02, -1.47551718e-01,  6.54696554e-03,  8.48837006e-02,\n",
       "        -1.06098124e-02, -1.07915684e-02,  2.25737271e-02,  1.40151490e-01,\n",
       "        -1.89181800e-02, -4.66454723e-02,  6.93068338e-02, -1.45159708e-01,\n",
       "        -4.57994853e-02,  2.02586780e-03,  8.03639096e-02,  2.03696850e-01,\n",
       "        -8.48022085e-02, -2.53820701e-02, -1.56096263e-01, -4.24473011e-02]))"
      ]
     },
     "execution_count": 23,
     "metadata": {},
     "output_type": "execute_result"
    }
   ],
   "source": [
    "article = articles_loaded[0]\n",
    "article"
   ]
  },
  {
   "cell_type": "markdown",
   "metadata": {},
   "source": [
    "## Recommendation\n",
    "After we read `gloves` (database of word vectors) and `articles_loaded ` (a corpus of text article records) into memory, we can use word2vec to recommend articles.\n",
    "To get the list of most relevant five articles for `article`, we'll do this:\n",
    "\n",
    "```python\n",
    "similar_articles = recommended(article, articles_loaded, 5)\n",
    "```"
   ]
  },
  {
   "cell_type": "code",
   "execution_count": 29,
   "metadata": {},
   "outputs": [],
   "source": [
    "similar_articles = recommended(article, articles_loaded, 5)"
   ]
  },
  {
   "cell_type": "markdown",
   "metadata": {},
   "source": [
    "`similar_articles` is a list containing 5 article records."
   ]
  },
  {
   "cell_type": "markdown",
   "metadata": {},
   "source": [
    "### How does `recommended` work?\n",
    "What is process when we run `recommended(article, articles_loaded, 5)`?"
   ]
  },
  {
   "cell_type": "markdown",
   "metadata": {},
   "source": [
    "First, it will run `distances(article, articles)`, which is going to compute the euclidean distance from `article` to every other article and return a list of (distance, a) tuples for all a in articles."
   ]
  },
  {
   "cell_type": "code",
   "execution_count": 30,
   "metadata": {},
   "outputs": [],
   "source": [
    "distances_list = distances(article, articles_loaded)"
   ]
  },
  {
   "cell_type": "code",
   "execution_count": 43,
   "metadata": {},
   "outputs": [
    {
     "name": "stdout",
     "output_type": "stream",
     "text": [
      "For example, the euclidean distance from article to the last article in the articles_loaded is 2.1802242628836463.\n"
     ]
    }
   ],
   "source": [
    "print(f'For example, the euclidean distance from article to the last article in the articles_loaded is {distances_list[-1][0]}.')"
   ]
  },
  {
   "cell_type": "markdown",
   "metadata": {},
   "source": [
    "Then, it will sort `distances_list` in reverse order by distance."
   ]
  },
  {
   "cell_type": "code",
   "execution_count": 44,
   "metadata": {},
   "outputs": [],
   "source": [
    "sorted_distances_list = sorted(distances_list, key = lambda x:x[0], reverse=False) "
   ]
  },
  {
   "cell_type": "markdown",
   "metadata": {},
   "source": [
    "Finally, it will return the top n (n is 5 in this example) article records. "
   ]
  },
  {
   "cell_type": "code",
   "execution_count": 48,
   "metadata": {},
   "outputs": [],
   "source": [
    "similar_articles = [record[1] for record in sorted_distances_list[:5]]"
   ]
  },
  {
   "cell_type": "code",
   "execution_count": null,
   "metadata": {},
   "outputs": [],
   "source": []
  }
 ],
 "metadata": {
  "kernelspec": {
   "display_name": "Python 3",
   "language": "python",
   "name": "python3"
  },
  "language_info": {
   "codemirror_mode": {
    "name": "ipython",
    "version": 3
   },
   "file_extension": ".py",
   "mimetype": "text/x-python",
   "name": "python",
   "nbconvert_exporter": "python",
   "pygments_lexer": "ipython3",
   "version": "3.8.2"
  }
 },
 "nbformat": 4,
 "nbformat_minor": 4
}
